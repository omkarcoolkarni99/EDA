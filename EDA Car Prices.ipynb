{
 "cells": [
  {
   "cell_type": "code",
   "execution_count": 18,
   "id": "815df90f",
   "metadata": {},
   "outputs": [],
   "source": [
    "import numpy as np\n",
    "from matplotlib import pyplot as plt\n",
    "import pandas as pd\n",
    "import seaborn as sns\n",
    "import os\n",
    "for dirname, _, filenames in os.walk('/kaggle/input'):\n",
    "    for filename in filenames:\n",
    "        print(os.path.join(dirname, filename))"
   ]
  },
  {
   "cell_type": "code",
   "execution_count": null,
   "id": "e888ee7e",
   "metadata": {},
   "outputs": [],
   "source": []
  },
  {
   "cell_type": "code",
   "execution_count": 23,
   "id": "b2db798e",
   "metadata": {},
   "outputs": [],
   "source": [
    "\n",
    "df_cardekho = pd.read_csv(\"CAR DETAILS FROM CAR DEKHO.csv\")\n"
   ]
  },
  {
   "cell_type": "code",
   "execution_count": null,
   "id": "184c69f8",
   "metadata": {},
   "outputs": [],
   "source": [
    "df_cardekho.info()\n",
    "df_cardekho.head()\n",
    "df_cardekho.describe()\n"
   ]
  },
  {
   "cell_type": "code",
   "execution_count": null,
   "id": "7c80ac54",
   "metadata": {},
   "outputs": [],
   "source": [
    "fig, (axis1,axis2) = plt.subplots(1, 2, figsize = (20,5))\n",
    "sns.countplot(x=\"seller_type\", data=df_cardekho, ax=axis1)\n",
    "sns.barplot(x=\"seller_type\", y=\"selling_price\",data=df_cardekho, ax=axis2 )\n"
   ]
  },
  {
   "cell_type": "markdown",
   "id": "e09fd1ae",
   "metadata": {},
   "source": [
    "There are more number of individual sellers, however the Trustmark Dealers were able to get best of the selling price"
   ]
  },
  {
   "cell_type": "code",
   "execution_count": null,
   "id": "56b2558d",
   "metadata": {},
   "outputs": [],
   "source": [
    "\n",
    "types_of_seller = df_cardekho.seller_type.unique()\n",
    "print(types_of_seller)\n",
    "types_of_owner = df_cardekho.owner.unique()\n",
    "print(types_of_owner)\n",
    "number_of_cars_per_owner_type = df_cardekho.groupby(['owner'])['selling_price'].count().tolist()\n",
    "cars_per_owner_type = df_cardekho.groupby(['owner'])['selling_price'].count()\n",
    "print(\"Number Of Cars per Owner Type \\n\" + str(cars_per_owner_type))\n",
    "selling_price= df_cardekho.groupby(['owner'])['selling_price'].mean().tolist()\n",
    "sp = df_cardekho.groupby(['owner'])['selling_price'].mean()\n",
    "print(\"Mean Selling Price \\n\" + str(sp))\n",
    "plt.figure(figsize=(20,5))\n",
    "c = ['Blue',\"Brown\",\"Green\",\"Grey\",\"Orange\"]\n",
    "ax1 = plt.subplot(1,2,1)\n",
    "ax1.bar(types_of_owner,number_of_cars_per_owner_type,color = c)\n",
    "plt.xlabel('types of owner')\n",
    "plt.ylabel('number of cars per owner type')\n",
    "ax2 = plt.subplot(1,2,2)\n",
    "ax2.bar(types_of_owner,selling_price, color = c)\n",
    "plt.xlabel('types_of_owner')\n",
    "plt.ylabel('Selling Price')\n",
    "           "
   ]
  },
  {
   "cell_type": "markdown",
   "id": "5d7f4960",
   "metadata": {},
   "source": [
    "More number of first owners sold their car, but third owners got the most value for their cars"
   ]
  },
  {
   "cell_type": "code",
   "execution_count": null,
   "id": "2d9cba96",
   "metadata": {},
   "outputs": [],
   "source": [
    "types_of_transmission = df_cardekho.transmission.unique()\n",
    "types_of_transmission.sort()\n",
    "print(types_of_transmission)\n",
    "number_of_cars_per_owner_type = df_cardekho.groupby(['transmission'])['selling_price'].count().tolist()\n",
    "cars_per_transmission_type = df_cardekho.groupby(['transmission'])['selling_price'].count()\n",
    "print(\"Number Of Cars according to Transmission Type \\n\" + str(cars_per_transmission_type))\n",
    "selling_price= df_cardekho.groupby(['transmission'])['selling_price'].mean().tolist()\n",
    "sp = df_cardekho.groupby(['transmission'])['selling_price'].mean()\n",
    "print(\"Mean Selling Price \\n\" + str(sp))\n",
    "plt.figure(figsize=(20,5))\n",
    "c = ['Blue',\"Brown\",\"Green\",\"Grey\",\"Orange\"]\n",
    "ax1 = plt.subplot(1,2,1)\n",
    "ax1.bar(types_of_transmission,cars_per_transmission_type,color = c)\n",
    "plt.xlabel(\"Type Of Transmission\")\n",
    "plt.ylabel(\"Count\")\n",
    "ax2 = plt.subplot(1,2,2)\n",
    "ax2.bar(types_of_transmission,selling_price, color = c)\n",
    "plt.ylabel(\"Selling Price\")\n",
    "plt.xlabel('Type Of Transmission')"
   ]
  },
  {
   "cell_type": "markdown",
   "id": "b70139fc",
   "metadata": {},
   "source": [
    "More number of Manual cars were sold as compared to that of the automatic cars"
   ]
  },
  {
   "cell_type": "code",
   "execution_count": null,
   "id": "fe976c76",
   "metadata": {
    "scrolled": true
   },
   "outputs": [],
   "source": [
    "plt.scatter('km_driven','selling_price',data = df_cardekho)\n",
    "plt.xlabel('Kms Driven')\n",
    "plt.ylabel('Selling Price')"
   ]
  },
  {
   "cell_type": "markdown",
   "id": "80caeb6d",
   "metadata": {},
   "source": [
    "The cars which are driven less are sold at better price"
   ]
  },
  {
   "cell_type": "code",
   "execution_count": null,
   "id": "0e85c4b7",
   "metadata": {},
   "outputs": [],
   "source": [
    "df_cardekho['age'] = 2020- df_cardekho['year']\n",
    "x = df_cardekho.sort_values(by=['age','selling_price'])\n",
    "plt.plot('age','selling_price',data = x)\n",
    "plt.xlabel('Age')\n",
    "plt.ylabel('Selling Price')"
   ]
  },
  {
   "cell_type": "markdown",
   "id": "777747cc",
   "metadata": {},
   "source": [
    "Newer cars sell for higher prices"
   ]
  },
  {
   "cell_type": "code",
   "execution_count": null,
   "id": "895dddcd",
   "metadata": {},
   "outputs": [],
   "source": [
    "types_of_fuel = df_cardekho.fuel.unique()\n",
    "types_of_fuel.sort()\n",
    "print(types_of_fuel)\n",
    "number_of_cars_per_fuel_type = df_cardekho.groupby(['fuel'])['selling_price'].count().tolist()\n",
    "cars_per_fuel_type = df_cardekho.groupby(['fuel'])['selling_price'].count()\n",
    "print(\"Number Of Cars according to Fuel Type \\n\" + str(cars_per_transmission_type))\n",
    "selling_price= df_cardekho.groupby(['fuel'])['selling_price'].mean().tolist()\n",
    "sp = df_cardekho.groupby(['fuel'])['selling_price'].mean()\n",
    "print(\"Mean Selling Price \\n\" + str(sp))\n",
    "plt.figure(figsize=(20,5))\n",
    "c = ['Blue',\"Brown\",\"Green\",\"Grey\",\"Orange\"]\n",
    "ax1 = plt.subplot(1,2,1)\n",
    "ax1.bar(types_of_fuel,selling_price,color = c)\n",
    "plt.xlabel(\"Type Of Fuel\")\n",
    "plt.ylabel(\"Selling Price\")\n",
    "ax2 = plt.subplot(1,2,2)\n",
    "ax2.bar(types_of_fuel,cars_per_fuel_type, color =c)\n",
    "plt.xlabel(\"Type Of Fuel\")\n",
    "plt.ylabel(\"Count\")"
   ]
  },
  {
   "cell_type": "markdown",
   "id": "83132361",
   "metadata": {},
   "source": [
    "Diesel cars have most selling price"
   ]
  },
  {
   "cell_type": "code",
   "execution_count": null,
   "id": "4f3cb716",
   "metadata": {},
   "outputs": [],
   "source": [
    "df_seller_owner = df_cardekho.groupby(by=[\"seller_type\",\"owner\",\"transmission\"])\n",
    "df_seller_owner.count().sort_values(by=\"selling_price\", ascending=False).plot(kind=\"bar\", y=\"selling_price\")"
   ]
  },
  {
   "cell_type": "markdown",
   "id": "533661ae",
   "metadata": {},
   "source": [
    "The graph shows that the Individual Sellers who are First Owners of a Manual Car were able to sell the car at maximum price"
   ]
  }
 ],
 "metadata": {
  "kernelspec": {
   "display_name": "Python 3 (ipykernel)",
   "language": "python",
   "name": "python3"
  },
  "language_info": {
   "codemirror_mode": {
    "name": "ipython",
    "version": 3
   },
   "file_extension": ".py",
   "mimetype": "text/x-python",
   "name": "python",
   "nbconvert_exporter": "python",
   "pygments_lexer": "ipython3",
   "version": "3.9.5"
  }
 },
 "nbformat": 4,
 "nbformat_minor": 5
}
